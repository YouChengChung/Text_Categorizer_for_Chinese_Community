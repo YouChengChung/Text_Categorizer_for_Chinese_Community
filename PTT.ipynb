{
 "cells": [
  {
   "attachments": {},
   "cell_type": "markdown",
   "metadata": {},
   "source": [
    "# PPT WebCrawler & Machine Learning"
   ]
  },
  {
   "attachments": {},
   "cell_type": "markdown",
   "metadata": {},
   "source": [
    "## Overview"
   ]
  },
  {
   "attachments": {},
   "cell_type": "markdown",
   "metadata": {},
   "source": [
    "1. Import Packages\n",
    "2. Web Crawler\n",
    "3. Data storage (ETL)\n",
    "4. Feature Engineering\n",
    "5. Data Visualization\n",
    "6. Modeling\n",
    "7. Prediction"
   ]
  },
  {
   "cell_type": "markdown",
   "metadata": {},
   "source": [
    "## Import Packages"
   ]
  },
  {
   "cell_type": "code",
   "execution_count": 3,
   "metadata": {},
   "outputs": [],
   "source": [
    "import time\n",
    "from bs4 import BeautifulSoup\n",
    "import requests\n",
    "import pandas as pd\n",
    "import openpyxl\n",
    "import sqlite3\n"
   ]
  },
  {
   "attachments": {},
   "cell_type": "markdown",
   "metadata": {},
   "source": [
    "## Crawlering & Storage"
   ]
  },
  {
   "cell_type": "code",
   "execution_count": 2,
   "metadata": {},
   "outputs": [],
   "source": [
    "\"\"\"Create database\"\"\"\n",
    "def create_connection(db_file):\n",
    "    conn = None\n",
    "    try:\n",
    "        conn = sqlite3.connect(db_file)\n",
    "        return conn\n",
    "    except :\n",
    "        print(\"Connection error\")\n",
    "    return conn\n",
    "\n",
    "def create_table(conn, create_table):\n",
    "    try:\n",
    "        c = conn.cursor()\n",
    "        c.execute(create_table)\n",
    "        #c.commit()\n",
    "    except :\n",
    "        print(\"Create table error\")\n",
    "\n",
    "def main():\n",
    "    database = \"mydatabase1.db\"\n",
    "    # create a database connection\n",
    "    conn = create_connection(database)\n",
    "\n",
    "    sql_create_ptt_table_query = \"\"\" CREATE TABLE IF NOT EXISTS PTT (\n",
    "                                        board text NOT NULL,\n",
    "                                        id text,\n",
    "                                        pushes text,\n",
    "                                        author text,\n",
    "                                        title text\n",
    "                                    ); \"\"\"\n",
    "    \n",
    "    # create tables\n",
    "    if conn is not None:\n",
    "        # create ptt table\n",
    "        create_table(conn, sql_create_ptt_table_query)\n",
    "    else:\n",
    "        print(\"Error! cannot create the database connection.\")\n",
    "\n",
    "    conn.close()\n",
    "\n",
    "main()\n"
   ]
  },
  {
   "cell_type": "code",
   "execution_count": 3,
   "metadata": {},
   "outputs": [],
   "source": [
    "'''New Data'''\n",
    "def add_new_row(insertlist):\n",
    "    try:\n",
    "        conn = sqlite3.connect('mydatabase1.db')\n",
    "        cursor = conn.cursor()\n",
    "        strinsertlist = \"'\"+\"','\".join(insertlist)+\"'\"\n",
    "        #print(strinsertlist)\n",
    "        add_new_row_query = \"\"\"INSERT INTO PTT(board,id,pushes,author,title) VALUES(\"\"\"+strinsertlist+\"\"\") \"\"\"\n",
    "        \n",
    "        cursor.execute(add_new_row_query)\n",
    "        conn.commit()\n",
    "        #print(\"ok\",insertlist)\n",
    "        conn.close()\n",
    "    except:\n",
    "        print('?')\n",
    "        print(insertlist)\n",
    "        conn.close()\n",
    "\n"
   ]
  },
  {
   "cell_type": "code",
   "execution_count": null,
   "metadata": {},
   "outputs": [],
   "source": [
    "\"\"\"用openpyxl寫進worksheet\"\"\"\n",
    "wb = openpyxl.Workbook()\n",
    "ws = wb.active\n",
    "ws.append([\"看板名稱\",'id',\"推文數\",\"文章作者\",\"文章名稱\"]) \n",
    "#for board_name in ('NBA','Baseball'):\n",
    "for board_name in ('NBA',\"Stock\",'Boy-Girl','Baseball',\"Lifeismoney\"):\n",
    "    url = 'https://www.ptt.cc/bbs/'+board_name+'/index.html'\n",
    "    for page in range(1,31): #30頁\n",
    "        print(url)  #當前的url\n",
    "        print(board_name,\"版page\",page)\n",
    "        time.sleep(2)\n",
    "        web = requests.get(url,cookies={'over18':'1'})\n",
    "        soup = BeautifulSoup(web.text, \"html.parser\")\n",
    "        pushes = soup.find_all('div',class_='nrec')\n",
    "        authors = soup.find_all('div',class_='author')\n",
    "        titles = soup.find_all('div', class_='title')     # 取得 class 為 title 的 div 內容\n",
    "        for i,j,k in zip(titles,pushes,authors):\n",
    "            if i.find('a') != None:                         # 判斷如果不為 None\n",
    "                a = j.text\n",
    "                #print(a,k.text,end=\" \")        #推文數,作者\n",
    "                #print(i.find('a').get_text())                 # 取得 div 裡 a 的內容，使用 get_text() 取得文字\n",
    "                \n",
    "                id = i.find('a').get(\"href\")[i.find('a').get(\"href\").find(board_name):i.find('a').get(\"href\").find('.A.')]\n",
    "                \n",
    "                b=0\n",
    "                \n",
    "                if a =='爆':\n",
    "                    url_article = \"https://www.ptt.cc\"+i.find('a').get('href')\n",
    "                    web_article = requests.get(url_article,cookies={'over18':'1'})\n",
    "                    soup_article = BeautifulSoup(web_article.text, \"html.parser\")\n",
    "                    b=0\n",
    "                    pushnumber = soup_article.find_all('div',class_='push')\n",
    "                    for m in pushnumber:\n",
    "                        if m.text[0] == '推':\n",
    "                            b+=1\n",
    "                        elif m.text[0] == '噓':\n",
    "                            b-=1\n",
    "                    #print(\"爆\",b)\n",
    "                #print([board_name,a,k.text,i.text])\n",
    "                \n",
    "                if b>0:\n",
    "                    #print([board_name,str(b),k.text,i.text])\n",
    "                    data = [board_name,id,str(b),k.text,i.text]\n",
    "                    ws.append(data)\n",
    "                    add_new_row(data)\n",
    "                else:\n",
    "                    #print([board_name,a,k.text,i.text])\n",
    "                    data = [board_name,id,a,k.text,i.text]\n",
    "                    ws.append(data)\n",
    "                    add_new_row(data)\n",
    "\n",
    "                \n",
    "\n",
    "        url = \"https://www.ptt.cc\"+soup.find_all(\"a\",class_='btn wide')[1].get('href') #上一頁的href\n",
    "\n",
    "wb.save(\"PPT1.xlsx\")\n"
   ]
  },
  {
   "cell_type": "code",
   "execution_count": 4,
   "metadata": {},
   "outputs": [
    {
     "name": "stdout",
     "output_type": "stream",
     "text": [
      "            board                                   title\n",
      "0             NBA              \\n[花邊] 到1/21為止所有球員TPA排行圖\\n\n",
      "1             NBA                         \\n[公告] 板規10.1\\n\n",
      "2             NBA  \\n[情報] SEASON Schedule January 22–23\\n\n",
      "3             NBA                         \\n[公告] 板主徵選開始\\n\n",
      "4             NBA  \\n[情報] NBA Standings (Jan. 22, 2023)\\n\n",
      "...           ...                                     ...\n",
      "2923  Lifeismoney          \\n[情報] 韓味不二 湯品鍋物7入禮盒 $968 免運\\n\n",
      "2924  Lifeismoney           \\nRe: [新聞] 12月份壽星優惠 20大餐廳優惠\\n\n",
      "2925  Lifeismoney                 \\n[情報] 統一精工2023上半年度活動\\n\n",
      "2926  Lifeismoney                       \\n[情報] 熊好券 終極加碼\\n\n",
      "2927  Lifeismoney   \\n[情報] EPIC《氣球塔防 6》免費 至 12/17 00:00\\n\n",
      "\n",
      "[2928 rows x 2 columns]\n"
     ]
    }
   ],
   "source": [
    "\"\"\"從sqlite撈取資料庫\"\"\"\n",
    "conn = sqlite3.connect('mydatabase1.db')\n",
    "cursor = conn.cursor()\n",
    "\n",
    "df = pd.read_sql(\"SELECT board,title FROM PTT\",conn)\n",
    "conn.close()\n",
    "print(df)"
   ]
  },
  {
   "attachments": {},
   "cell_type": "markdown",
   "metadata": {},
   "source": [
    "## Data Overview"
   ]
  },
  {
   "cell_type": "code",
   "execution_count": 6,
   "metadata": {},
   "outputs": [
    {
     "data": {
      "text/html": [
       "<div>\n",
       "<style scoped>\n",
       "    .dataframe tbody tr th:only-of-type {\n",
       "        vertical-align: middle;\n",
       "    }\n",
       "\n",
       "    .dataframe tbody tr th {\n",
       "        vertical-align: top;\n",
       "    }\n",
       "\n",
       "    .dataframe thead th {\n",
       "        text-align: right;\n",
       "    }\n",
       "</style>\n",
       "<table border=\"1\" class=\"dataframe\">\n",
       "  <thead>\n",
       "    <tr style=\"text-align: right;\">\n",
       "      <th></th>\n",
       "      <th>board</th>\n",
       "      <th>title</th>\n",
       "    </tr>\n",
       "  </thead>\n",
       "  <tbody>\n",
       "    <tr>\n",
       "      <th>0</th>\n",
       "      <td>NBA</td>\n",
       "      <td>\\n[花邊] 到1/21為止所有球員TPA排行圖\\n</td>\n",
       "    </tr>\n",
       "    <tr>\n",
       "      <th>1</th>\n",
       "      <td>NBA</td>\n",
       "      <td>\\n[公告] 板規10.1\\n</td>\n",
       "    </tr>\n",
       "    <tr>\n",
       "      <th>2</th>\n",
       "      <td>NBA</td>\n",
       "      <td>\\n[情報] SEASON Schedule January 22–23\\n</td>\n",
       "    </tr>\n",
       "    <tr>\n",
       "      <th>3</th>\n",
       "      <td>NBA</td>\n",
       "      <td>\\n[公告] 板主徵選開始\\n</td>\n",
       "    </tr>\n",
       "    <tr>\n",
       "      <th>4</th>\n",
       "      <td>NBA</td>\n",
       "      <td>\\n[情報] NBA Standings (Jan. 22, 2023)\\n</td>\n",
       "    </tr>\n",
       "  </tbody>\n",
       "</table>\n",
       "</div>"
      ],
      "text/plain": [
       "  board                                   title\n",
       "0   NBA              \\n[花邊] 到1/21為止所有球員TPA排行圖\\n\n",
       "1   NBA                         \\n[公告] 板規10.1\\n\n",
       "2   NBA  \\n[情報] SEASON Schedule January 22–23\\n\n",
       "3   NBA                         \\n[公告] 板主徵選開始\\n\n",
       "4   NBA  \\n[情報] NBA Standings (Jan. 22, 2023)\\n"
      ]
     },
     "execution_count": 6,
     "metadata": {},
     "output_type": "execute_result"
    }
   ],
   "source": [
    "df.head()"
   ]
  },
  {
   "cell_type": "code",
   "execution_count": 10,
   "metadata": {},
   "outputs": [
    {
     "data": {
      "text/html": [
       "<div>\n",
       "<style scoped>\n",
       "    .dataframe tbody tr th:only-of-type {\n",
       "        vertical-align: middle;\n",
       "    }\n",
       "\n",
       "    .dataframe tbody tr th {\n",
       "        vertical-align: top;\n",
       "    }\n",
       "\n",
       "    .dataframe thead th {\n",
       "        text-align: right;\n",
       "    }\n",
       "</style>\n",
       "<table border=\"1\" class=\"dataframe\">\n",
       "  <thead>\n",
       "    <tr style=\"text-align: right;\">\n",
       "      <th></th>\n",
       "      <th>board</th>\n",
       "      <th>title</th>\n",
       "    </tr>\n",
       "  </thead>\n",
       "  <tbody>\n",
       "    <tr>\n",
       "      <th>count</th>\n",
       "      <td>2928</td>\n",
       "      <td>2928</td>\n",
       "    </tr>\n",
       "    <tr>\n",
       "      <th>unique</th>\n",
       "      <td>5</td>\n",
       "      <td>2531</td>\n",
       "    </tr>\n",
       "    <tr>\n",
       "      <th>top</th>\n",
       "      <td>Lifeismoney</td>\n",
       "      <td>\\nRe: [討論] 為何男生不會追求儀式感？\\n</td>\n",
       "    </tr>\n",
       "    <tr>\n",
       "      <th>freq</th>\n",
       "      <td>592</td>\n",
       "      <td>32</td>\n",
       "    </tr>\n",
       "  </tbody>\n",
       "</table>\n",
       "</div>"
      ],
      "text/plain": [
       "              board                      title\n",
       "count          2928                       2928\n",
       "unique            5                       2531\n",
       "top     Lifeismoney  \\nRe: [討論] 為何男生不會追求儀式感？\\n\n",
       "freq            592                         32"
      ]
     },
     "execution_count": 10,
     "metadata": {},
     "output_type": "execute_result"
    }
   ],
   "source": [
    "df.describe()"
   ]
  },
  {
   "cell_type": "code",
   "execution_count": 11,
   "metadata": {},
   "outputs": [
    {
     "name": "stdout",
     "output_type": "stream",
     "text": [
      "<class 'pandas.core.frame.DataFrame'>\n",
      "RangeIndex: 2928 entries, 0 to 2927\n",
      "Data columns (total 2 columns):\n",
      " #   Column  Non-Null Count  Dtype \n",
      "---  ------  --------------  ----- \n",
      " 0   board   2928 non-null   object\n",
      " 1   title   2928 non-null   object\n",
      "dtypes: object(2)\n",
      "memory usage: 45.9+ KB\n"
     ]
    }
   ],
   "source": [
    "df.info()"
   ]
  },
  {
   "cell_type": "code",
   "execution_count": 60,
   "metadata": {},
   "outputs": [
    {
     "name": "stdout",
     "output_type": "stream",
     "text": [
      "{'NBA': 575, 'Stock': 574, 'Boy-Girl': 582, 'Baseball': 586, 'Lifeismoney': 578}\n"
     ]
    }
   ],
   "source": [
    "# Number of post on each board\n",
    "board_count={}\n",
    "for i in df['board'].unique():\n",
    "    board_count[i] = list(df['board']).count(i)\n",
    "print(board_count)"
   ]
  },
  {
   "attachments": {},
   "cell_type": "markdown",
   "metadata": {},
   "source": [
    "## Feature Engineering"
   ]
  },
  {
   "attachments": {},
   "cell_type": "markdown",
   "metadata": {},
   "source": [
    "1. '\\n' in title\n",
    "3. drop 公告\n",
    "2. jieba"
   ]
  },
  {
   "cell_type": "code",
   "execution_count": 24,
   "metadata": {},
   "outputs": [],
   "source": [
    "# '\\n'\n",
    "for i in range(len(df)):\n",
    "    df['title'][i] = df['title'][i].replace('\\n','')"
   ]
  },
  {
   "cell_type": "code",
   "execution_count": 59,
   "metadata": {},
   "outputs": [],
   "source": [
    "# 公告\n",
    "for i in range(len(df)):\n",
    "    if (\"[公告]\" in df['title'][i]):\n",
    "        print(df['title'][i])\n",
    "        df = df.drop(i)\n",
    "df = df.reset_index(drop=True)"
   ]
  },
  {
   "cell_type": "code",
   "execution_count": null,
   "metadata": {},
   "outputs": [],
   "source": [
    "#jieba\n",
    "import jieba\n",
    "def cut_text(text):\n",
    "    cut = jieba.cut(text)\n",
    "    return list(cut) \n",
    "df['text'] = df['title'].apply(cut_text)"
   ]
  },
  {
   "attachments": {},
   "cell_type": "markdown",
   "metadata": {},
   "source": [
    "## Data Visualization"
   ]
  },
  {
   "cell_type": "code",
   "execution_count": 73,
   "metadata": {},
   "outputs": [
    {
     "data": {
      "text/plain": [
       "<AxesSubplot: xlabel='board'>"
      ]
     },
     "execution_count": 73,
     "metadata": {},
     "output_type": "execute_result"
    },
    {
     "data": {
      "image/png": "[encoded data removed]",
      "text/plain": [
       "<Figure size 640x480 with 1 Axes>"
      ]
     },
     "metadata": {},
     "output_type": "display_data"
    }
   ],
   "source": [
    "groups = df.groupby('board')\n",
    "groups.size().plot(kind='bar')"
   ]
  },
  {
   "cell_type": "code",
   "execution_count": null,
   "metadata": {},
   "outputs": [],
   "source": [
    "# Word Cloud (by board)\n",
    "\n"
   ]
  },
  {
   "cell_type": "code",
   "execution_count": null,
   "metadata": {},
   "outputs": [],
   "source": []
  },
  {
   "cell_type": "code",
   "execution_count": null,
   "metadata": {},
   "outputs": [],
   "source": []
  }
 ],
 "metadata": {
  "kernelspec": {
   "display_name": "Python 3",
   "language": "python",
   "name": "python3"
  },
  "language_info": {
   "codemirror_mode": {
    "name": "ipython",
    "version": 3
   },
   "file_extension": ".py",
   "mimetype": "text/x-python",
   "name": "python",
   "nbconvert_exporter": "python",
   "pygments_lexer": "ipython3",
   "version": "3.11.1"
  },
  "orig_nbformat": 4,
  "vscode": {
   "interpreter": {
    "hash": "8593d4add5365d7158871ec0753c05c746233c60746556b3b2a811c658184efa"
   }
  }
 },
 "nbformat": 4,
 "nbformat_minor": 2
}
