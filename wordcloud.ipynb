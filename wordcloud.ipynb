{
 "cells": [
  {
   "cell_type": "markdown",
   "metadata": {},
   "source": [
    "## Data Visualization"
   ]
  },
  {
   "cell_type": "code",
   "execution_count": null,
   "metadata": {},
   "outputs": [],
   "source": [
    "from wordcloud import WordCloud\n",
    "from collections import Counter\n",
    "import matplotlib.pyplot as plt\n",
    "import os\n",
    "import pandas as pd\n",
    "import sqlite3"
   ]
  },
  {
   "cell_type": "code",
   "execution_count": null,
   "metadata": {},
   "outputs": [],
   "source": [
    "class DatabaseHandler:\n",
    "    def __init__(self, db_name):\n",
    "        self.db_file = db_name\n",
    "        self.conn = None\n",
    "\n",
    "    def create_connection(self):\n",
    "        try:\n",
    "            self.conn = sqlite3.connect(self.db_file)\n",
    "        except:\n",
    "            print(\"Connection error\")\n",
    "\n",
    "    def create_table(self, create_table_query):\n",
    "        try:\n",
    "            c = self.conn.cursor()\n",
    "            c.execute(create_table_query)\n",
    "            # self.conn.commit()  # Uncomment this line if you want to commit changes immediately\n",
    "        except:\n",
    "            print(\"Create table error\")\n",
    "\n",
    "    def add_new_row(self, table,insert_list):\n",
    "        # Insert new data\n",
    "        try:\n",
    "            cursor = self.conn.cursor()\n",
    "            str_insert_list = \"'\" + \"','\".join(insert_list) + \"'\"\n",
    "            add_new_row_query = f\"\"\"INSERT INTO {table}(board, id, pushes, author, title)\n",
    "                                   VALUES({str_insert_list})\"\"\"\n",
    "\n",
    "            cursor.execute(add_new_row_query)\n",
    "            self.conn.commit()\n",
    "        except:\n",
    "            print('?')\n",
    "            print(insert_list)\n",
    "    \n",
    "    def get_data(self,query):\n",
    "        query_result = pd.read_sql(query,self.conn)\n",
    "        return query_result\n",
    "\n",
    "    def close_connection(self):\n",
    "        if self.conn:\n",
    "            self.conn.close()"
   ]
  },
  {
   "cell_type": "code",
   "execution_count": null,
   "metadata": {},
   "outputs": [],
   "source": [
    "database_path = \"Crawler\\mydatabase1.db\"\n",
    "current_folder = os.getcwd()  # 取得目前程式碼所在的資料夾路徑\n",
    "database_name = os.path.join(current_folder,database_path)  # 組合路徑\n",
    "print(database_name)\n",
    "\n",
    "# 確認目標database是否存在\n",
    "if os.path.exists(database_name):\n",
    "    print(\"database存在，可以進行讀取資料夾的操作。\")\n",
    "else:\n",
    "    print(\"database不存在。\")\n",
    "\n",
    "\n",
    "\n",
    "handler = DatabaseHandler(database_name)\n",
    "# create a database connection\n",
    "handler.create_connection()"
   ]
  },
  {
   "cell_type": "code",
   "execution_count": null,
   "metadata": {},
   "outputs": [],
   "source": [
    "query = \"\"\"SELECT board,title FROM PTT_dealed\"\"\"\n",
    "df = handler.get_data(query)"
   ]
  },
  {
   "cell_type": "code",
   "execution_count": null,
   "metadata": {},
   "outputs": [],
   "source": [
    "TC_FONT_PATH = 'NotoSansTC-Black.otf' # 繁體中文字型檔名\n",
    "\n",
    "\n",
    "plt.figure(figsize=(15,10))\n",
    "k=1\n",
    "for board_name in df['board'].unique():\n",
    "    textlist =[]\n",
    "    filter = df['board']==board_name\n",
    "    for text in df[filter]['text']:\n",
    "        for word in text:\n",
    "            textlist.append(word)\n",
    "    each_dictionary = Counter(textlist)\n",
    "    wordcloud = WordCloud(background_color=\"white\",contour_width=3, contour_color='black',font_path=TC_FONT_PATH).generate_from_frequencies(each_dictionary)\n",
    "    \n",
    "    plt.subplot(3,2,k)\n",
    "    plt.imshow(wordcloud, interpolation=\"bilinear\",aspect=\"auto\")\n",
    "    plt.axis(\"off\")\n",
    "    k+=1"
   ]
  }
 ],
 "metadata": {
  "kernelspec": {
   "display_name": "nlp",
   "language": "python",
   "name": "python3"
  },
  "language_info": {
   "codemirror_mode": {
    "name": "ipython",
    "version": 3
   },
   "file_extension": ".py",
   "mimetype": "text/x-python",
   "name": "python",
   "nbconvert_exporter": "python",
   "pygments_lexer": "ipython3",
   "version": "3.11.4"
  },
  "orig_nbformat": 4
 },
 "nbformat": 4,
 "nbformat_minor": 2
}
