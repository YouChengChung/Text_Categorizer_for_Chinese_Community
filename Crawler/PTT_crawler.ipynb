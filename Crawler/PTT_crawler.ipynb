{
 "cells": [
  {
   "cell_type": "markdown",
   "metadata": {},
   "source": [
    "## Import Packages"
   ]
  },
  {
   "cell_type": "code",
   "execution_count": 1,
   "metadata": {},
   "outputs": [],
   "source": [
    "import time\n",
    "from bs4 import BeautifulSoup\n",
    "import requests\n",
    "import pandas as pd\n",
    "import openpyxl\n",
    "import sqlite3\n",
    "import numpy as np"
   ]
  },
  {
   "attachments": {},
   "cell_type": "markdown",
   "metadata": {},
   "source": [
    "## Crawlering & Storage"
   ]
  },
  {
   "cell_type": "code",
   "execution_count": 2,
   "metadata": {},
   "outputs": [],
   "source": [
    "\"\"\"Create database\"\"\"\n",
    "def create_connection(db_file):\n",
    "    conn = None\n",
    "    try:\n",
    "        conn = sqlite3.connect(db_file)\n",
    "        return conn\n",
    "    except :\n",
    "        print(\"Connection error\")\n",
    "    return conn\n",
    "\n",
    "def create_table(conn, create_table):\n",
    "    try:\n",
    "        c = conn.cursor()\n",
    "        c.execute(create_table)\n",
    "        #c.commit()\n",
    "    except :\n",
    "        print(\"Create table error\")\n",
    "\n",
    "#def main():\n",
    "    database = \"mydatabase1.db\"\n",
    "    # create a database connection\n",
    "    conn = create_connection(database)\n",
    "\n",
    "    sql_create_ptt_table_query = \"\"\" CREATE TABLE IF NOT EXISTS PTT (\n",
    "                                        board text NOT NULL,\n",
    "                                        id text,\n",
    "                                        pushes text,\n",
    "                                        author text,\n",
    "                                        title text\n",
    "                                    ); \"\"\"\n",
    "    \n",
    "    # create tables\n",
    "    if conn is not None:\n",
    "        # create ptt table\n",
    "        create_table(conn, sql_create_ptt_table_query)\n",
    "    else:\n",
    "        print(\"Error! cannot create the database connection.\")\n",
    "\n",
    "    conn.close()\n",
    "\n",
    "main()\n"
   ]
  },
  {
   "cell_type": "code",
   "execution_count": 3,
   "metadata": {},
   "outputs": [],
   "source": [
    "'''New Data'''\n",
    "def add_new_row(insertlist):\n",
    "    try:\n",
    "        conn = sqlite3.connect('mydatabase1.db')\n",
    "        cursor = conn.cursor()\n",
    "        strinsertlist = \"'\"+\"','\".join(insertlist)+\"'\"\n",
    "        #print(strinsertlist)\n",
    "        add_new_row_query = \"\"\"INSERT INTO PTT(board,id,pushes,author,title) VALUES(\"\"\"+strinsertlist+\"\"\") \"\"\"\n",
    "        \n",
    "        cursor.execute(add_new_row_query)\n",
    "        conn.commit()\n",
    "        #print(\"ok\",insertlist)\n",
    "        conn.close()\n",
    "    except:\n",
    "        print('?')\n",
    "        print(insertlist)\n",
    "        conn.close()\n",
    "\n"
   ]
  },
  {
   "cell_type": "code",
   "execution_count": null,
   "metadata": {},
   "outputs": [],
   "source": [
    "\"\"\"用openpyxl寫進worksheet\"\"\"\n",
    "wb = openpyxl.Workbook()\n",
    "ws = wb.active\n",
    "ws.append([\"看板名稱\",'id',\"推文數\",\"文章作者\",\"文章名稱\"]) \n",
    "#for board_name in ('NBA','Baseball'):\n",
    "for board_name in ('NBA',\"Stock\",'Boy-Girl','Baseball',\"Lifeismoney\"):\n",
    "    url = 'https://www.ptt.cc/bbs/'+board_name+'/index.html'\n",
    "    for page in range(1,31): #30頁\n",
    "        print(url)  #當前的url\n",
    "        print(board_name,\"版page\",page)\n",
    "        time.sleep(2)\n",
    "        web = requests.get(url,cookies={'over18':'1'})\n",
    "        soup = BeautifulSoup(web.text, \"html.parser\")\n",
    "        pushes = soup.find_all('div',class_='nrec')\n",
    "        authors = soup.find_all('div',class_='author')\n",
    "        titles = soup.find_all('div', class_='title')     # 取得 class 為 title 的 div 內容\n",
    "        for i,j,k in zip(titles,pushes,authors):\n",
    "            if i.find('a') != None:                         # 判斷如果不為 None\n",
    "                a = j.text\n",
    "                #print(a,k.text,end=\" \")        #推文數,作者\n",
    "                #print(i.find('a').get_text())                 # 取得 div 裡 a 的內容，使用 get_text() 取得文字\n",
    "                \n",
    "                id = i.find('a').get(\"href\")[i.find('a').get(\"href\").find(board_name):i.find('a').get(\"href\").find('.A.')]\n",
    "                \n",
    "                b=0\n",
    "                \n",
    "                if a =='爆':\n",
    "                    url_article = \"https://www.ptt.cc\"+i.find('a').get('href')\n",
    "                    web_article = requests.get(url_article,cookies={'over18':'1'})\n",
    "                    soup_article = BeautifulSoup(web_article.text, \"html.parser\")\n",
    "                    b=0\n",
    "                    pushnumber = soup_article.find_all('div',class_='push')\n",
    "                    for m in pushnumber:\n",
    "                        if m.text[0] == '推':\n",
    "                            b+=1\n",
    "                        elif m.text[0] == '噓':\n",
    "                            b-=1\n",
    "                    #print(\"爆\",b)\n",
    "                #print([board_name,a,k.text,i.text])\n",
    "                \n",
    "                if b>0:\n",
    "                    #print([board_name,str(b),k.text,i.text])\n",
    "                    data = [board_name,id,str(b),k.text,i.text]\n",
    "                    ws.append(data)\n",
    "                    add_new_row(data)\n",
    "                else:\n",
    "                    #print([board_name,a,k.text,i.text])\n",
    "                    data = [board_name,id,a,k.text,i.text]\n",
    "                    ws.append(data)\n",
    "                    add_new_row(data)\n",
    "\n",
    "                \n",
    "\n",
    "        url = \"https://www.ptt.cc\"+soup.find_all(\"a\",class_='btn wide')[1].get('href') #上一頁的href\n",
    "\n",
    "wb.save(\"PPT1.xlsx\")\n"
   ]
  }
 ],
 "metadata": {
  "kernelspec": {
   "display_name": "base",
   "language": "python",
   "name": "python3"
  },
  "language_info": {
   "codemirror_mode": {
    "name": "ipython",
    "version": 3
   },
   "file_extension": ".py",
   "mimetype": "text/x-python",
   "name": "python",
   "nbconvert_exporter": "python",
   "pygments_lexer": "ipython3",
   "version": "3.9.13"
  },
  "orig_nbformat": 4,
  "vscode": {
   "interpreter": {
    "hash": "3bd7db9283e9e8085258194ee67b6ecd92b654bfc214ec6409926b342b7633d1"
   }
  }
 },
 "nbformat": 4,
 "nbformat_minor": 2
}
